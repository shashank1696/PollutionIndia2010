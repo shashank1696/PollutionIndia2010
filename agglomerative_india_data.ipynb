{
 "cells": [
  {
   "cell_type": "code",
   "execution_count": 4,
   "metadata": {
    "collapsed": true
   },
   "outputs": [],
   "source": [
    "import os\n",
    "import pandas as pd\n",
    "import numpy as np\n",
    "import matplotlib.pyplot as plt\n",
    "% matplotlib inline"
   ]
  },
  {
   "cell_type": "code",
   "execution_count": 5,
   "metadata": {},
   "outputs": [
    {
     "data": {
      "text/plain": [
       "'C:\\\\Users\\\\b0a0042\\\\Desktop\\\\1. Files\\\\Clustering in Python\\\\Code Snippets-2\\\\Code Snippets\\\\47. Agglomerative Clustering - Code Demo'"
      ]
     },
     "execution_count": 5,
     "metadata": {},
     "output_type": "execute_result"
    }
   ],
   "source": [
    "os.getcwd()"
   ]
  },
  {
   "cell_type": "code",
   "execution_count": 2,
   "metadata": {
    "collapsed": true
   },
   "outputs": [],
   "source": [
    "#change working directory if data is in that location\n",
    "data_dir='Z:\\ML Course\\Clustering\\Data'\n",
    "os.chdir(data_dir)"
   ]
  },
  {
   "cell_type": "code",
   "execution_count": 57,
   "metadata": {
    "collapsed": true
   },
   "outputs": [],
   "source": [
    "data=pd.read_csv(\"pollution_india_2010.csv\",na_values='Null')"
   ]
  },
  {
   "cell_type": "code",
   "execution_count": 58,
   "metadata": {},
   "outputs": [
    {
     "data": {
      "text/html": [
       "<div>\n",
       "<table border=\"1\" class=\"dataframe\">\n",
       "  <thead>\n",
       "    <tr style=\"text-align: right;\">\n",
       "      <th></th>\n",
       "      <th>City</th>\n",
       "      <th>NO2</th>\n",
       "      <th>PM10</th>\n",
       "      <th>SO2</th>\n",
       "      <th>State</th>\n",
       "    </tr>\n",
       "  </thead>\n",
       "  <tbody>\n",
       "    <tr>\n",
       "      <th>0</th>\n",
       "      <td>Chitoor</td>\n",
       "      <td>9.0</td>\n",
       "      <td>39.0</td>\n",
       "      <td>4.0</td>\n",
       "      <td>Andhra Pradesh</td>\n",
       "    </tr>\n",
       "    <tr>\n",
       "      <th>1</th>\n",
       "      <td>Guntur</td>\n",
       "      <td>11.0</td>\n",
       "      <td>81.0</td>\n",
       "      <td>2.0</td>\n",
       "      <td>Andhra Pradesh</td>\n",
       "    </tr>\n",
       "    <tr>\n",
       "      <th>2</th>\n",
       "      <td>Hydrabad</td>\n",
       "      <td>24.0</td>\n",
       "      <td>79.0</td>\n",
       "      <td>5.0</td>\n",
       "      <td>Andhra Pradesh</td>\n",
       "    </tr>\n",
       "    <tr>\n",
       "      <th>3</th>\n",
       "      <td>Kothagudem</td>\n",
       "      <td>11.0</td>\n",
       "      <td>62.0</td>\n",
       "      <td>2.0</td>\n",
       "      <td>Andhra Pradesh</td>\n",
       "    </tr>\n",
       "    <tr>\n",
       "      <th>4</th>\n",
       "      <td>Kurnool</td>\n",
       "      <td>9.0</td>\n",
       "      <td>85.0</td>\n",
       "      <td>4.0</td>\n",
       "      <td>Andhra Pradesh</td>\n",
       "    </tr>\n",
       "  </tbody>\n",
       "</table>\n",
       "</div>"
      ],
      "text/plain": [
       "         City   NO2  PM10  SO2           State\n",
       "0     Chitoor   9.0  39.0  4.0  Andhra Pradesh\n",
       "1      Guntur  11.0  81.0  2.0  Andhra Pradesh\n",
       "2    Hydrabad  24.0  79.0  5.0  Andhra Pradesh\n",
       "3  Kothagudem  11.0  62.0  2.0  Andhra Pradesh\n",
       "4     Kurnool   9.0  85.0  4.0  Andhra Pradesh"
      ]
     },
     "execution_count": 58,
     "metadata": {},
     "output_type": "execute_result"
    }
   ],
   "source": [
    "data.head()"
   ]
  },
  {
   "cell_type": "code",
   "execution_count": 59,
   "metadata": {},
   "outputs": [
    {
     "data": {
      "text/plain": [
       "City     0\n",
       "NO2      4\n",
       "PM10     1\n",
       "SO2      5\n",
       "State    0\n",
       "dtype: int64"
      ]
     },
     "execution_count": 59,
     "metadata": {},
     "output_type": "execute_result"
    }
   ],
   "source": [
    "data.isnull().sum()"
   ]
  },
  {
   "cell_type": "code",
   "execution_count": 9,
   "metadata": {},
   "outputs": [
    {
     "data": {
      "text/plain": [
       "(181, 5)"
      ]
     },
     "execution_count": 9,
     "metadata": {},
     "output_type": "execute_result"
    }
   ],
   "source": [
    "data.shape"
   ]
  },
  {
   "cell_type": "code",
   "execution_count": 10,
   "metadata": {
    "collapsed": true
   },
   "outputs": [],
   "source": [
    "data=data.dropna()"
   ]
  },
  {
   "cell_type": "code",
   "execution_count": 11,
   "metadata": {},
   "outputs": [
    {
     "data": {
      "text/plain": [
       "(175, 5)"
      ]
     },
     "execution_count": 11,
     "metadata": {},
     "output_type": "execute_result"
    }
   ],
   "source": [
    "data.shape"
   ]
  },
  {
   "cell_type": "code",
   "execution_count": 12,
   "metadata": {},
   "outputs": [
    {
     "data": {
      "text/plain": [
       "City      object\n",
       "NO2      float64\n",
       "PM10     float64\n",
       "SO2      float64\n",
       "State     object\n",
       "dtype: object"
      ]
     },
     "execution_count": 12,
     "metadata": {},
     "output_type": "execute_result"
    }
   ],
   "source": [
    "data.dtypes\n",
    "#https://stackoverflow.com/questions/29877508/what-does-dtype-object-mean-while-creating-a-numpy-array"
   ]
  },
  {
   "cell_type": "code",
   "execution_count": 60,
   "metadata": {
    "collapsed": true
   },
   "outputs": [],
   "source": [
    "data_pol=data.groupby('State',as_index=False)[['NO2','PM10','SO2']].agg(np.sum)\n",
    "#For aggregated output,as_index=False does not return object with group labels as the index. \n",
    "#Only relevant for DataFrame input. as_index=False is effectively “SQL-style” grouped output"
   ]
  },
  {
   "cell_type": "code",
   "execution_count": 61,
   "metadata": {},
   "outputs": [
    {
     "data": {
      "text/html": [
       "<div>\n",
       "<table border=\"1\" class=\"dataframe\">\n",
       "  <thead>\n",
       "    <tr style=\"text-align: right;\">\n",
       "      <th></th>\n",
       "      <th>State</th>\n",
       "      <th>NO2</th>\n",
       "      <th>PM10</th>\n",
       "      <th>SO2</th>\n",
       "    </tr>\n",
       "  </thead>\n",
       "  <tbody>\n",
       "    <tr>\n",
       "      <th>0</th>\n",
       "      <td>Andhra Pradesh</td>\n",
       "      <td>183.0</td>\n",
       "      <td>893.0</td>\n",
       "      <td>60.0</td>\n",
       "    </tr>\n",
       "    <tr>\n",
       "      <th>1</th>\n",
       "      <td>Assam</td>\n",
       "      <td>177.0</td>\n",
       "      <td>834.0</td>\n",
       "      <td>74.0</td>\n",
       "    </tr>\n",
       "    <tr>\n",
       "      <th>2</th>\n",
       "      <td>Bihar</td>\n",
       "      <td>40.0</td>\n",
       "      <td>181.0</td>\n",
       "      <td>7.0</td>\n",
       "    </tr>\n",
       "    <tr>\n",
       "      <th>3</th>\n",
       "      <td>Chandigarh</td>\n",
       "      <td>16.0</td>\n",
       "      <td>92.0</td>\n",
       "      <td>2.0</td>\n",
       "    </tr>\n",
       "    <tr>\n",
       "      <th>4</th>\n",
       "      <td>Chattisgarh</td>\n",
       "      <td>105.0</td>\n",
       "      <td>502.0</td>\n",
       "      <td>45.0</td>\n",
       "    </tr>\n",
       "  </tbody>\n",
       "</table>\n",
       "</div>"
      ],
      "text/plain": [
       "            State    NO2   PM10   SO2\n",
       "0  Andhra Pradesh  183.0  893.0  60.0\n",
       "1           Assam  177.0  834.0  74.0\n",
       "2           Bihar   40.0  181.0   7.0\n",
       "3      Chandigarh   16.0   92.0   2.0\n",
       "4     Chattisgarh  105.0  502.0  45.0"
      ]
     },
     "execution_count": 61,
     "metadata": {},
     "output_type": "execute_result"
    }
   ],
   "source": [
    "data_pol.head()"
   ]
  },
  {
   "cell_type": "code",
   "execution_count": 62,
   "metadata": {},
   "outputs": [
    {
     "data": {
      "text/html": [
       "<div>\n",
       "<table border=\"1\" class=\"dataframe\">\n",
       "  <thead>\n",
       "    <tr style=\"text-align: right;\">\n",
       "      <th></th>\n",
       "      <th>State</th>\n",
       "      <th>NO2</th>\n",
       "      <th>PM10</th>\n",
       "      <th>SO2</th>\n",
       "    </tr>\n",
       "  </thead>\n",
       "  <tbody>\n",
       "    <tr>\n",
       "      <th>0</th>\n",
       "      <td>Andhra Pradesh</td>\n",
       "      <td>183.0</td>\n",
       "      <td>893.0</td>\n",
       "      <td>60.0</td>\n",
       "    </tr>\n",
       "    <tr>\n",
       "      <th>1</th>\n",
       "      <td>Assam</td>\n",
       "      <td>177.0</td>\n",
       "      <td>834.0</td>\n",
       "      <td>74.0</td>\n",
       "    </tr>\n",
       "    <tr>\n",
       "      <th>2</th>\n",
       "      <td>Bihar</td>\n",
       "      <td>40.0</td>\n",
       "      <td>181.0</td>\n",
       "      <td>7.0</td>\n",
       "    </tr>\n",
       "    <tr>\n",
       "      <th>3</th>\n",
       "      <td>Chandigarh</td>\n",
       "      <td>16.0</td>\n",
       "      <td>92.0</td>\n",
       "      <td>2.0</td>\n",
       "    </tr>\n",
       "    <tr>\n",
       "      <th>4</th>\n",
       "      <td>Chattisgarh</td>\n",
       "      <td>105.0</td>\n",
       "      <td>502.0</td>\n",
       "      <td>45.0</td>\n",
       "    </tr>\n",
       "    <tr>\n",
       "      <th>5</th>\n",
       "      <td>Dadra and Nagar Haveli</td>\n",
       "      <td>18.0</td>\n",
       "      <td>39.0</td>\n",
       "      <td>7.0</td>\n",
       "    </tr>\n",
       "    <tr>\n",
       "      <th>6</th>\n",
       "      <td>Daman and Diu</td>\n",
       "      <td>18.0</td>\n",
       "      <td>35.0</td>\n",
       "      <td>7.0</td>\n",
       "    </tr>\n",
       "    <tr>\n",
       "      <th>7</th>\n",
       "      <td>Delhi</td>\n",
       "      <td>55.0</td>\n",
       "      <td>261.0</td>\n",
       "      <td>5.0</td>\n",
       "    </tr>\n",
       "    <tr>\n",
       "      <th>8</th>\n",
       "      <td>Goa</td>\n",
       "      <td>217.0</td>\n",
       "      <td>893.0</td>\n",
       "      <td>118.0</td>\n",
       "    </tr>\n",
       "    <tr>\n",
       "      <th>9</th>\n",
       "      <td>Gujarat</td>\n",
       "      <td>166.0</td>\n",
       "      <td>621.0</td>\n",
       "      <td>105.0</td>\n",
       "    </tr>\n",
       "    <tr>\n",
       "      <th>10</th>\n",
       "      <td>Haryana</td>\n",
       "      <td>63.0</td>\n",
       "      <td>520.0</td>\n",
       "      <td>38.0</td>\n",
       "    </tr>\n",
       "    <tr>\n",
       "      <th>11</th>\n",
       "      <td>HimachalPradesh</td>\n",
       "      <td>105.0</td>\n",
       "      <td>615.0</td>\n",
       "      <td>20.0</td>\n",
       "    </tr>\n",
       "    <tr>\n",
       "      <th>12</th>\n",
       "      <td>Jammu and Kashmir</td>\n",
       "      <td>15.0</td>\n",
       "      <td>115.0</td>\n",
       "      <td>7.0</td>\n",
       "    </tr>\n",
       "    <tr>\n",
       "      <th>13</th>\n",
       "      <td>Jharkhand</td>\n",
       "      <td>271.0</td>\n",
       "      <td>1391.0</td>\n",
       "      <td>158.0</td>\n",
       "    </tr>\n",
       "    <tr>\n",
       "      <th>14</th>\n",
       "      <td>Karnataka</td>\n",
       "      <td>130.0</td>\n",
       "      <td>416.0</td>\n",
       "      <td>51.0</td>\n",
       "    </tr>\n",
       "    <tr>\n",
       "      <th>15</th>\n",
       "      <td>Kerala</td>\n",
       "      <td>132.0</td>\n",
       "      <td>463.0</td>\n",
       "      <td>37.0</td>\n",
       "    </tr>\n",
       "    <tr>\n",
       "      <th>16</th>\n",
       "      <td>MadhyaPradesh</td>\n",
       "      <td>178.0</td>\n",
       "      <td>1275.0</td>\n",
       "      <td>102.0</td>\n",
       "    </tr>\n",
       "    <tr>\n",
       "      <th>17</th>\n",
       "      <td>Maharashtra</td>\n",
       "      <td>619.0</td>\n",
       "      <td>1834.0</td>\n",
       "      <td>368.0</td>\n",
       "    </tr>\n",
       "    <tr>\n",
       "      <th>18</th>\n",
       "      <td>Meghalaya</td>\n",
       "      <td>40.0</td>\n",
       "      <td>388.0</td>\n",
       "      <td>6.0</td>\n",
       "    </tr>\n",
       "    <tr>\n",
       "      <th>19</th>\n",
       "      <td>Mizoram</td>\n",
       "      <td>6.0</td>\n",
       "      <td>42.0</td>\n",
       "      <td>2.0</td>\n",
       "    </tr>\n",
       "    <tr>\n",
       "      <th>20</th>\n",
       "      <td>Nagaland</td>\n",
       "      <td>12.0</td>\n",
       "      <td>142.0</td>\n",
       "      <td>4.0</td>\n",
       "    </tr>\n",
       "    <tr>\n",
       "      <th>21</th>\n",
       "      <td>Orissa</td>\n",
       "      <td>154.0</td>\n",
       "      <td>728.0</td>\n",
       "      <td>37.0</td>\n",
       "    </tr>\n",
       "    <tr>\n",
       "      <th>22</th>\n",
       "      <td>Puducherry</td>\n",
       "      <td>13.0</td>\n",
       "      <td>38.0</td>\n",
       "      <td>6.0</td>\n",
       "    </tr>\n",
       "    <tr>\n",
       "      <th>23</th>\n",
       "      <td>Punjab</td>\n",
       "      <td>257.0</td>\n",
       "      <td>1723.0</td>\n",
       "      <td>101.0</td>\n",
       "    </tr>\n",
       "    <tr>\n",
       "      <th>24</th>\n",
       "      <td>Rajasthan</td>\n",
       "      <td>146.0</td>\n",
       "      <td>818.0</td>\n",
       "      <td>36.0</td>\n",
       "    </tr>\n",
       "    <tr>\n",
       "      <th>25</th>\n",
       "      <td>Tamilnadu</td>\n",
       "      <td>105.0</td>\n",
       "      <td>388.0</td>\n",
       "      <td>45.0</td>\n",
       "    </tr>\n",
       "    <tr>\n",
       "      <th>26</th>\n",
       "      <td>UttarPradesh</td>\n",
       "      <td>418.0</td>\n",
       "      <td>2440.0</td>\n",
       "      <td>189.0</td>\n",
       "    </tr>\n",
       "    <tr>\n",
       "      <th>27</th>\n",
       "      <td>Uttarakhand</td>\n",
       "      <td>30.0</td>\n",
       "      <td>755.0</td>\n",
       "      <td>28.0</td>\n",
       "    </tr>\n",
       "    <tr>\n",
       "      <th>28</th>\n",
       "      <td>West Bengal</td>\n",
       "      <td>579.0</td>\n",
       "      <td>1018.0</td>\n",
       "      <td>90.0</td>\n",
       "    </tr>\n",
       "  </tbody>\n",
       "</table>\n",
       "</div>"
      ],
      "text/plain": [
       "                     State    NO2    PM10    SO2\n",
       "0           Andhra Pradesh  183.0   893.0   60.0\n",
       "1                    Assam  177.0   834.0   74.0\n",
       "2                    Bihar   40.0   181.0    7.0\n",
       "3               Chandigarh   16.0    92.0    2.0\n",
       "4              Chattisgarh  105.0   502.0   45.0\n",
       "5   Dadra and Nagar Haveli   18.0    39.0    7.0\n",
       "6            Daman and Diu   18.0    35.0    7.0\n",
       "7                    Delhi   55.0   261.0    5.0\n",
       "8                      Goa  217.0   893.0  118.0\n",
       "9                  Gujarat  166.0   621.0  105.0\n",
       "10                 Haryana   63.0   520.0   38.0\n",
       "11         HimachalPradesh  105.0   615.0   20.0\n",
       "12       Jammu and Kashmir   15.0   115.0    7.0\n",
       "13               Jharkhand  271.0  1391.0  158.0\n",
       "14               Karnataka  130.0   416.0   51.0\n",
       "15                  Kerala  132.0   463.0   37.0\n",
       "16           MadhyaPradesh  178.0  1275.0  102.0\n",
       "17             Maharashtra  619.0  1834.0  368.0\n",
       "18               Meghalaya   40.0   388.0    6.0\n",
       "19                 Mizoram    6.0    42.0    2.0\n",
       "20                Nagaland   12.0   142.0    4.0\n",
       "21                  Orissa  154.0   728.0   37.0\n",
       "22              Puducherry   13.0    38.0    6.0\n",
       "23                  Punjab  257.0  1723.0  101.0\n",
       "24               Rajasthan  146.0   818.0   36.0\n",
       "25               Tamilnadu  105.0   388.0   45.0\n",
       "26            UttarPradesh  418.0  2440.0  189.0\n",
       "27             Uttarakhand   30.0   755.0   28.0\n",
       "28             West Bengal  579.0  1018.0   90.0"
      ]
     },
     "execution_count": 62,
     "metadata": {},
     "output_type": "execute_result"
    }
   ],
   "source": [
    "data_pol"
   ]
  },
  {
   "cell_type": "code",
   "execution_count": 63,
   "metadata": {},
   "outputs": [],
   "source": [
    "def scale(x):\n",
    "    return (x-np.mean(x))/np.std(x)\n",
    "data_num=data_pol.drop(\"State\",axis=1) #for drop axis = 1 refers to columnwise operation\n",
    "data_scaled=data_num.apply(scale,axis=0) #for apply axis =0 refers to columnwise operation"
   ]
  },
  {
   "cell_type": "code",
   "execution_count": 64,
   "metadata": {},
   "outputs": [
    {
     "data": {
      "text/html": [
       "<div>\n",
       "<table border=\"1\" class=\"dataframe\">\n",
       "  <thead>\n",
       "    <tr style=\"text-align: right;\">\n",
       "      <th></th>\n",
       "      <th>NO2</th>\n",
       "      <th>PM10</th>\n",
       "      <th>SO2</th>\n",
       "    </tr>\n",
       "  </thead>\n",
       "  <tbody>\n",
       "    <tr>\n",
       "      <th>0</th>\n",
       "      <td>0.230500</td>\n",
       "      <td>0.377853</td>\n",
       "      <td>-0.006831</td>\n",
       "    </tr>\n",
       "    <tr>\n",
       "      <th>1</th>\n",
       "      <td>0.191898</td>\n",
       "      <td>0.277417</td>\n",
       "      <td>0.178067</td>\n",
       "    </tr>\n",
       "    <tr>\n",
       "      <th>2</th>\n",
       "      <td>-0.689503</td>\n",
       "      <td>-0.834188</td>\n",
       "      <td>-0.706801</td>\n",
       "    </tr>\n",
       "    <tr>\n",
       "      <th>3</th>\n",
       "      <td>-0.843909</td>\n",
       "      <td>-0.985693</td>\n",
       "      <td>-0.772836</td>\n",
       "    </tr>\n",
       "    <tr>\n",
       "      <th>4</th>\n",
       "      <td>-0.271320</td>\n",
       "      <td>-0.287748</td>\n",
       "      <td>-0.204936</td>\n",
       "    </tr>\n",
       "    <tr>\n",
       "      <th>5</th>\n",
       "      <td>-0.831042</td>\n",
       "      <td>-1.075916</td>\n",
       "      <td>-0.706801</td>\n",
       "    </tr>\n",
       "    <tr>\n",
       "      <th>6</th>\n",
       "      <td>-0.831042</td>\n",
       "      <td>-1.082725</td>\n",
       "      <td>-0.706801</td>\n",
       "    </tr>\n",
       "    <tr>\n",
       "      <th>7</th>\n",
       "      <td>-0.592999</td>\n",
       "      <td>-0.698004</td>\n",
       "      <td>-0.733215</td>\n",
       "    </tr>\n",
       "    <tr>\n",
       "      <th>8</th>\n",
       "      <td>0.449242</td>\n",
       "      <td>0.377853</td>\n",
       "      <td>0.759174</td>\n",
       "    </tr>\n",
       "    <tr>\n",
       "      <th>9</th>\n",
       "      <td>0.121129</td>\n",
       "      <td>-0.085174</td>\n",
       "      <td>0.587483</td>\n",
       "    </tr>\n",
       "    <tr>\n",
       "      <th>10</th>\n",
       "      <td>-0.541531</td>\n",
       "      <td>-0.257107</td>\n",
       "      <td>-0.297385</td>\n",
       "    </tr>\n",
       "    <tr>\n",
       "      <th>11</th>\n",
       "      <td>-0.271320</td>\n",
       "      <td>-0.095388</td>\n",
       "      <td>-0.535110</td>\n",
       "    </tr>\n",
       "    <tr>\n",
       "      <th>12</th>\n",
       "      <td>-0.850343</td>\n",
       "      <td>-0.946540</td>\n",
       "      <td>-0.706801</td>\n",
       "    </tr>\n",
       "    <tr>\n",
       "      <th>13</th>\n",
       "      <td>0.796656</td>\n",
       "      <td>1.225601</td>\n",
       "      <td>1.287453</td>\n",
       "    </tr>\n",
       "    <tr>\n",
       "      <th>14</th>\n",
       "      <td>-0.110480</td>\n",
       "      <td>-0.434147</td>\n",
       "      <td>-0.125694</td>\n",
       "    </tr>\n",
       "    <tr>\n",
       "      <th>15</th>\n",
       "      <td>-0.097613</td>\n",
       "      <td>-0.354138</td>\n",
       "      <td>-0.310592</td>\n",
       "    </tr>\n",
       "    <tr>\n",
       "      <th>16</th>\n",
       "      <td>0.198332</td>\n",
       "      <td>1.028134</td>\n",
       "      <td>0.547862</td>\n",
       "    </tr>\n",
       "    <tr>\n",
       "      <th>17</th>\n",
       "      <td>3.035545</td>\n",
       "      <td>1.979722</td>\n",
       "      <td>4.060918</td>\n",
       "    </tr>\n",
       "    <tr>\n",
       "      <th>18</th>\n",
       "      <td>-0.689503</td>\n",
       "      <td>-0.481811</td>\n",
       "      <td>-0.720008</td>\n",
       "    </tr>\n",
       "    <tr>\n",
       "      <th>19</th>\n",
       "      <td>-0.908245</td>\n",
       "      <td>-1.070809</td>\n",
       "      <td>-0.772836</td>\n",
       "    </tr>\n",
       "    <tr>\n",
       "      <th>20</th>\n",
       "      <td>-0.869644</td>\n",
       "      <td>-0.900578</td>\n",
       "      <td>-0.746422</td>\n",
       "    </tr>\n",
       "    <tr>\n",
       "      <th>21</th>\n",
       "      <td>0.043926</td>\n",
       "      <td>0.096973</td>\n",
       "      <td>-0.310592</td>\n",
       "    </tr>\n",
       "    <tr>\n",
       "      <th>22</th>\n",
       "      <td>-0.863210</td>\n",
       "      <td>-1.077618</td>\n",
       "      <td>-0.720008</td>\n",
       "    </tr>\n",
       "    <tr>\n",
       "      <th>23</th>\n",
       "      <td>0.706586</td>\n",
       "      <td>1.790766</td>\n",
       "      <td>0.534655</td>\n",
       "    </tr>\n",
       "    <tr>\n",
       "      <th>24</th>\n",
       "      <td>-0.007543</td>\n",
       "      <td>0.250180</td>\n",
       "      <td>-0.323799</td>\n",
       "    </tr>\n",
       "    <tr>\n",
       "      <th>25</th>\n",
       "      <td>-0.271320</td>\n",
       "      <td>-0.481811</td>\n",
       "      <td>-0.204936</td>\n",
       "    </tr>\n",
       "    <tr>\n",
       "      <th>26</th>\n",
       "      <td>1.742394</td>\n",
       "      <td>3.011319</td>\n",
       "      <td>1.696869</td>\n",
       "    </tr>\n",
       "    <tr>\n",
       "      <th>27</th>\n",
       "      <td>-0.753839</td>\n",
       "      <td>0.142935</td>\n",
       "      <td>-0.429455</td>\n",
       "    </tr>\n",
       "    <tr>\n",
       "      <th>28</th>\n",
       "      <td>2.778201</td>\n",
       "      <td>0.590641</td>\n",
       "      <td>0.389378</td>\n",
       "    </tr>\n",
       "  </tbody>\n",
       "</table>\n",
       "</div>"
      ],
      "text/plain": [
       "         NO2      PM10       SO2\n",
       "0   0.230500  0.377853 -0.006831\n",
       "1   0.191898  0.277417  0.178067\n",
       "2  -0.689503 -0.834188 -0.706801\n",
       "3  -0.843909 -0.985693 -0.772836\n",
       "4  -0.271320 -0.287748 -0.204936\n",
       "5  -0.831042 -1.075916 -0.706801\n",
       "6  -0.831042 -1.082725 -0.706801\n",
       "7  -0.592999 -0.698004 -0.733215\n",
       "8   0.449242  0.377853  0.759174\n",
       "9   0.121129 -0.085174  0.587483\n",
       "10 -0.541531 -0.257107 -0.297385\n",
       "11 -0.271320 -0.095388 -0.535110\n",
       "12 -0.850343 -0.946540 -0.706801\n",
       "13  0.796656  1.225601  1.287453\n",
       "14 -0.110480 -0.434147 -0.125694\n",
       "15 -0.097613 -0.354138 -0.310592\n",
       "16  0.198332  1.028134  0.547862\n",
       "17  3.035545  1.979722  4.060918\n",
       "18 -0.689503 -0.481811 -0.720008\n",
       "19 -0.908245 -1.070809 -0.772836\n",
       "20 -0.869644 -0.900578 -0.746422\n",
       "21  0.043926  0.096973 -0.310592\n",
       "22 -0.863210 -1.077618 -0.720008\n",
       "23  0.706586  1.790766  0.534655\n",
       "24 -0.007543  0.250180 -0.323799\n",
       "25 -0.271320 -0.481811 -0.204936\n",
       "26  1.742394  3.011319  1.696869\n",
       "27 -0.753839  0.142935 -0.429455\n",
       "28  2.778201  0.590641  0.389378"
      ]
     },
     "execution_count": 64,
     "metadata": {},
     "output_type": "execute_result"
    }
   ],
   "source": [
    "data_scaled"
   ]
  },
  {
   "cell_type": "code",
   "execution_count": 65,
   "metadata": {},
   "outputs": [
    {
     "data": {
      "text/html": [
       "<div>\n",
       "<table border=\"1\" class=\"dataframe\">\n",
       "  <thead>\n",
       "    <tr style=\"text-align: right;\">\n",
       "      <th></th>\n",
       "      <th>NO2</th>\n",
       "      <th>PM10</th>\n",
       "      <th>SO2</th>\n",
       "    </tr>\n",
       "  </thead>\n",
       "  <tbody>\n",
       "    <tr>\n",
       "      <th>0</th>\n",
       "      <td>183.0</td>\n",
       "      <td>893.0</td>\n",
       "      <td>60.0</td>\n",
       "    </tr>\n",
       "    <tr>\n",
       "      <th>1</th>\n",
       "      <td>177.0</td>\n",
       "      <td>834.0</td>\n",
       "      <td>74.0</td>\n",
       "    </tr>\n",
       "    <tr>\n",
       "      <th>2</th>\n",
       "      <td>40.0</td>\n",
       "      <td>181.0</td>\n",
       "      <td>7.0</td>\n",
       "    </tr>\n",
       "    <tr>\n",
       "      <th>3</th>\n",
       "      <td>16.0</td>\n",
       "      <td>92.0</td>\n",
       "      <td>2.0</td>\n",
       "    </tr>\n",
       "    <tr>\n",
       "      <th>4</th>\n",
       "      <td>105.0</td>\n",
       "      <td>502.0</td>\n",
       "      <td>45.0</td>\n",
       "    </tr>\n",
       "  </tbody>\n",
       "</table>\n",
       "</div>"
      ],
      "text/plain": [
       "     NO2   PM10   SO2\n",
       "0  183.0  893.0  60.0\n",
       "1  177.0  834.0  74.0\n",
       "2   40.0  181.0   7.0\n",
       "3   16.0   92.0   2.0\n",
       "4  105.0  502.0  45.0"
      ]
     },
     "execution_count": 65,
     "metadata": {},
     "output_type": "execute_result"
    }
   ],
   "source": [
    "data_num.head()"
   ]
  },
  {
   "cell_type": "code",
   "execution_count": 66,
   "metadata": {
    "collapsed": true
   },
   "outputs": [],
   "source": [
    "from scipy.cluster.hierarchy import dendrogram, linkage, fcluster"
   ]
  },
  {
   "cell_type": "code",
   "execution_count": 67,
   "metadata": {
    "collapsed": true
   },
   "outputs": [],
   "source": [
    "data_scaled=np.array(data_scaled)"
   ]
  },
  {
   "cell_type": "code",
   "execution_count": 68,
   "metadata": {
    "collapsed": true
   },
   "outputs": [],
   "source": [
    "Z=linkage(data_scaled,method=\"ward\")\n",
    "#single', 'complete', 'average' "
   ]
  },
  {
   "cell_type": "code",
   "execution_count": 78,
   "metadata": {
    "scrolled": true
   },
   "outputs": [
    {
     "data": {
      "image/png": "[encoded data removed]",
      "text/plain": [
       "<matplotlib.figure.Figure at 0xee4d630>"
      ]
     },
     "metadata": {},
     "output_type": "display_data"
    }
   ],
   "source": [
    "fig, ax = plt.subplots(figsize=(15, 20))\n",
    "ax=dendrogram(Z,orientation=\"right\",labels=np.array(data_pol['State']),\n",
    "              leaf_rotation=30,leaf_font_size=16,color_threshold=4)\n",
    "             #(truncate_mode = 'lastp',p=4,show_contracted=True)\n",
    "plt.tight_layout()\n",
    "plt.show()"
   ]
  },
  {
   "cell_type": "code",
   "execution_count": 76,
   "metadata": {},
   "outputs": [],
   "source": [
    "assignments=fcluster(linkage(data_scaled,method=\"ward\"),4,'distance')"
   ]
  },
  {
   "cell_type": "code",
   "execution_count": 77,
   "metadata": {},
   "outputs": [
    {
     "data": {
      "text/plain": [
       "array([2, 2, 1, 1, 2, 1, 1, 1, 2, 2, 2, 2, 1, 3, 2, 2, 3, 4, 1, 1, 1, 2, 1,\n",
       "       3, 2, 2, 3, 2, 3])"
      ]
     },
     "execution_count": 77,
     "metadata": {},
     "output_type": "execute_result"
    }
   ],
   "source": [
    "assignments"
   ]
  },
  {
   "cell_type": "code",
   "execution_count": 33,
   "metadata": {
    "collapsed": true
   },
   "outputs": [],
   "source": [
    "from sklearn.cluster import AgglomerativeClustering"
   ]
  },
  {
   "cell_type": "code",
   "execution_count": 34,
   "metadata": {
    "scrolled": true
   },
   "outputs": [],
   "source": [
    "Hclustering = AgglomerativeClustering(n_clusters=10,\n",
    " affinity= 'euclidean', linkage='ward')"
   ]
  },
  {
   "cell_type": "code",
   "execution_count": 35,
   "metadata": {},
   "outputs": [
    {
     "data": {
      "text/plain": [
       "AgglomerativeClustering(affinity='euclidean', compute_full_tree='auto',\n",
       "            connectivity=None, linkage='ward',\n",
       "            memory=Memory(cachedir=None), n_clusters=10, n_components=None,\n",
       "            pooling_func=<function mean at 0x0000000003E0FC18>)"
      ]
     },
     "execution_count": 35,
     "metadata": {},
     "output_type": "execute_result"
    }
   ],
   "source": [
    "Hclustering.fit(data_scaled)"
   ]
  },
  {
   "cell_type": "code",
   "execution_count": 36,
   "metadata": {},
   "outputs": [
    {
     "data": {
      "text/plain": [
       "array([0, 0, 1, 1, 2, 1, 1, 1, 3, 3, 2, 2, 1, 8, 2, 2, 9, 5, 1, 1, 1, 0, 1,\n",
       "       7, 0, 2, 6, 1, 4], dtype=int64)"
      ]
     },
     "execution_count": 36,
     "metadata": {},
     "output_type": "execute_result"
    }
   ],
   "source": [
    "Hclustering.labels_"
   ]
  },
  {
   "cell_type": "code",
   "execution_count": null,
   "metadata": {
    "collapsed": true
   },
   "outputs": [],
   "source": []
  }
 ],
 "metadata": {
  "kernelspec": {
   "display_name": "Python 3",
   "language": "python",
   "name": "python3"
  },
  "language_info": {
   "codemirror_mode": {
    "name": "ipython",
    "version": 3
   },
   "file_extension": ".py",
   "mimetype": "text/x-python",
   "name": "python",
   "nbconvert_exporter": "python",
   "pygments_lexer": "ipython3",
   "version": "3.7.0"
  }
 },
 "nbformat": 4,
 "nbformat_minor": 2
}
